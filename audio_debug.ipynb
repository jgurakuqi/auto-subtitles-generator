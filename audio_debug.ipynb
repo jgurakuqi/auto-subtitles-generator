{
 "cells": [
  {
   "cell_type": "code",
   "execution_count": null,
   "metadata": {},
   "outputs": [
    {
     "ename": "",
     "evalue": "",
     "output_type": "error",
     "traceback": [
      "\u001b[1;31mFailed to start the Kernel. \n",
      "\u001b[1;31mImportError: /home/splugen96/miniconda3/envs/subtitle/lib/python3.13/lib-dynload/_sqlite3.cpython-313-x86_64-linux-gnu.so: undefined symbol: sqlite3_deserialize. \n",
      "\u001b[1;31mView Jupyter <a href='command:jupyter.viewOutput'>log</a> for further details."
     ]
    }
   ],
   "source": [
    "import librosa\n",
    "import numpy as np\n",
    "import matplotlib.pyplot as plt\n",
    "\n",
    "# Load the audio file\n",
    "audio_path = \"./vocals_only.wav\"\n",
    "y, sr = librosa.load(audio_path, sr=None)\n",
    "\n",
    "# Parameters for voice activity detection\n",
    "frame_length = 2048\n",
    "hop_length = 512\n",
    "energy_threshold = 0.01  # Adjust this threshold based on your audio\n",
    "\n",
    "# Calculate short-time energy\n",
    "energy = np.array(\n",
    "    [sum(abs(y[i : i + frame_length] ** 2)) for i in range(0, len(y), hop_length)]\n",
    ")\n",
    "\n",
    "# Normalize energy\n",
    "energy = energy / np.max(energy)\n",
    "\n",
    "# Detect voice activity\n",
    "voice_activity = energy > energy_threshold\n",
    "\n",
    "# Find start and end times of voice activity\n",
    "timestamps = []\n",
    "start = None\n",
    "\n",
    "for i, active in enumerate(voice_activity):\n",
    "    if active and start is None:\n",
    "        start = i * hop_length / sr\n",
    "    elif not active and start is not None:\n",
    "        end = i * hop_length / sr\n",
    "        timestamps.append({\"start\": start, \"end\": end})\n",
    "        start = None\n",
    "\n",
    "# Handle case where audio ends with voice activity\n",
    "if start is not None:\n",
    "    end = len(y) / sr\n",
    "    timestamps.append({\"start\": start, \"end\": end})\n",
    "\n",
    "# Print the timestamps\n",
    "print(timestamps)\n",
    "\n",
    "# Plot the energy and detected voice activity\n",
    "plt.figure(figsize=(14, 5))\n",
    "plt.plot(energy, label=\"Energy\")\n",
    "plt.axhline(y=energy_threshold, color=\"r\", linestyle=\"--\", label=\"Threshold\")\n",
    "plt.fill_between(\n",
    "    range(len(energy)),\n",
    "    0,\n",
    "    1,\n",
    "    where=voice_activity,\n",
    "    color=\"green\",\n",
    "    alpha=0.3,\n",
    "    transform=plt.gca().get_xaxis_transform(),\n",
    "    label=\"Voice Activity\",\n",
    ")\n",
    "plt.xlabel(\"Frames\")\n",
    "plt.ylabel(\"Normalized Energy\")\n",
    "plt.title(\"Voice Activity Detection\")\n",
    "plt.legend()\n",
    "plt.show()"
   ]
  }
 ],
 "metadata": {
  "kernelspec": {
   "display_name": "subtitle",
   "language": "python",
   "name": "python3"
  },
  "language_info": {
   "name": "python",
   "version": "3.13.1"
  }
 },
 "nbformat": 4,
 "nbformat_minor": 2
}
