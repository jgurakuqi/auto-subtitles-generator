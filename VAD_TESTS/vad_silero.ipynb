{
 "cells": [
  {
   "cell_type": "code",
   "execution_count": 1,
   "metadata": {},
   "outputs": [
    {
     "name": "stdout",
     "output_type": "stream",
     "text": [
      "Progress: 100.0%\r"
     ]
    }
   ],
   "source": [
    "import os\n",
    "from silero_vad import load_silero_vad, read_audio, get_speech_timestamps\n",
    "from utils.utils import create_folder_if_not_exists\n",
    "\n",
    "\n",
    "def format_timestamps_in_hh_mm_ss(line: dict[str, float]):\n",
    "    start = line[\"start\"]\n",
    "    end = line[\"end\"]\n",
    "    start_hh_mm_ss = f\"{int(start // 3600):02d}:{int((start % 3600) // 60):02d}:{int(start % 60):02d}\"\n",
    "    end_hh_mm_ss = (\n",
    "        f\"{int(end // 3600):02d}:{int((end % 3600) // 60):02d}:{int(end % 60):02d}\"\n",
    "    )\n",
    "    return f\"{start_hh_mm_ss} - {end_hh_mm_ss}\"\n",
    "\n",
    "\n",
    "vocals_only_path = \"./vocals_only/test_1_vocals.wav\"\n",
    "\n",
    "timestamps_folder = \"./silero_test/\"\n",
    "create_folder_if_not_exists(timestamps_folder)\n",
    "timestamps_full_path = os.path.join(timestamps_folder, \"silero.txt\")\n",
    "\n",
    "model = load_silero_vad()\n",
    "wav = read_audio(vocals_only_path, sampling_rate=41000)\n",
    "speech_timestamps = get_speech_timestamps(\n",
    "    wav,\n",
    "    model,\n",
    "    return_seconds=True,  # Return speech timestamps in seconds (default is samples)\n",
    "    progress_tracking_callback=lambda x: print(f\"Progress: {x:.1f}%\", end=\"\\r\"),\n",
    "    threshold=0.175,\n",
    "    # visualize_probs=False,\n",
    "    # min_silence_duration_ms=750,\n",
    "    # speech_pad_ms=110,\n",
    ")\n",
    "\n",
    "\n",
    "# Define function to merge consecutive timestamps\n",
    "def merge_contiguous_timestamps(timestamps):\n",
    "    merged_timestamps = []\n",
    "    current_start = timestamps[0][\"start\"]\n",
    "    current_end = timestamps[0][\"end\"]\n",
    "\n",
    "    for timestamp in timestamps[1:]:\n",
    "        if int(timestamp[\"start\"]) <= (int(current_end) + 2.0):\n",
    "            current_end = timestamp[\"end\"]\n",
    "        else:\n",
    "            merged_timestamps.append({\"start\": current_start, \"end\": current_end})\n",
    "            current_start = timestamp[\"start\"]\n",
    "            current_end = timestamp[\"end\"]\n",
    "\n",
    "    merged_timestamps.append({\"start\": current_start, \"end\": current_end})\n",
    "\n",
    "    return merged_timestamps\n",
    "\n",
    "\n",
    "merge_contiguous_timestamps(speech_timestamps)\n",
    "\n",
    "\n",
    "with open(timestamps_full_path, \"w\") as f:\n",
    "    for line in speech_timestamps:\n",
    "        f.write(f\"{format_timestamps_in_hh_mm_ss(line)}\\n\")"
   ]
  }
 ],
 "metadata": {
  "kernelspec": {
   "display_name": "subgen",
   "language": "python",
   "name": "python3"
  },
  "language_info": {
   "codemirror_mode": {
    "name": "ipython",
    "version": 3
   },
   "file_extension": ".py",
   "mimetype": "text/x-python",
   "name": "python",
   "nbconvert_exporter": "python",
   "pygments_lexer": "ipython3",
   "version": "3.12.0"
  }
 },
 "nbformat": 4,
 "nbformat_minor": 2
}
